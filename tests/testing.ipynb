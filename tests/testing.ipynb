{
 "cells": [
  {
   "cell_type": "code",
   "execution_count": 1,
   "metadata": {},
   "outputs": [
    {
     "ename": "NameError",
     "evalue": "name '__file__' is not defined",
     "output_type": "error",
     "traceback": [
      "\u001b[0;31m---------------------------------------------------------------------------\u001b[0m",
      "\u001b[0;31mNameError\u001b[0m                                 Traceback (most recent call last)",
      "\u001b[1;32m/Users/jim/Projects/aider/tests/testing.ipynb Cell 1\u001b[0m line \u001b[0;36m3\n\u001b[1;32m      <a href='vscode-notebook-cell:/Users/jim/Projects/aider/tests/testing.ipynb#W0sZmlsZQ%3D%3D?line=0'>1</a>\u001b[0m \u001b[39mimport\u001b[39;00m \u001b[39mos\u001b[39;00m\n\u001b[0;32m----> <a href='vscode-notebook-cell:/Users/jim/Projects/aider/tests/testing.ipynb#W0sZmlsZQ%3D%3D?line=2'>3</a>\u001b[0m root_path \u001b[39m=\u001b[39m os\u001b[39m.\u001b[39mpath\u001b[39m.\u001b[39mdirname(os\u001b[39m.\u001b[39mpath\u001b[39m.\u001b[39mrealpath(\u001b[39m__file__\u001b[39;49m))\n\u001b[1;32m      <a href='vscode-notebook-cell:/Users/jim/Projects/aider/tests/testing.ipynb#W0sZmlsZQ%3D%3D?line=3'>4</a>\u001b[0m \u001b[39m# convert path to URI\u001b[39;00m\n\u001b[1;32m      <a href='vscode-notebook-cell:/Users/jim/Projects/aider/tests/testing.ipynb#W0sZmlsZQ%3D%3D?line=4'>5</a>\u001b[0m project_uri \u001b[39m=\u001b[39m \u001b[39m\"\u001b[39m\u001b[39mfile://\u001b[39m\u001b[39m\"\u001b[39m \u001b[39m+\u001b[39m root_path\n",
      "\u001b[0;31mNameError\u001b[0m: name '__file__' is not defined"
     ]
    }
   ],
   "source": [
    "import os\n",
    "\n",
    "root_path = os.path.dirname(os.path.realpath(__file__))\n",
    "# convert path to URI\n",
    "project_uri = \"file://\" + root_path"
   ]
  },
  {
   "cell_type": "code",
   "execution_count": 2,
   "metadata": {},
   "outputs": [
    {
     "data": {
      "text/plain": [
       "'/Users/jim/Projects/aider/tests'"
      ]
     },
     "execution_count": 2,
     "metadata": {},
     "output_type": "execute_result"
    }
   ],
   "source": [
    "os.getcwd()"
   ]
  },
  {
   "cell_type": "code",
   "execution_count": 4,
   "metadata": {},
   "outputs": [
    {
     "data": {
      "text/plain": [
       "'file:///Users/jim/Projects/aider/tests'"
      ]
     },
     "execution_count": 4,
     "metadata": {},
     "output_type": "execute_result"
    }
   ],
   "source": [
    "# CWD as URI with file: protocol\n",
    "import pathlib\n",
    "\n",
    "pathlib.Path.cwd().as_uri()"
   ]
  },
  {
   "cell_type": "code",
   "execution_count": 6,
   "metadata": {},
   "outputs": [
    {
     "data": {
      "text/plain": [
       "True"
      ]
     },
     "execution_count": 6,
     "metadata": {},
     "output_type": "execute_result"
    }
   ],
   "source": [
    "len(\"This sentence has five words.\".split()) == 5"
   ]
  },
  {
   "cell_type": "code",
   "execution_count": 9,
   "metadata": {},
   "outputs": [
    {
     "name": "stdout",
     "output_type": "stream",
     "text": [
      "quine = <function <lambda> at 0x107a1d3a0>; print(quine())\n"
     ]
    },
    {
     "data": {
      "text/plain": [
       "'quine = <function <lambda> at 0x107a1d3a0>; print(quine())'"
      ]
     },
     "execution_count": 9,
     "metadata": {},
     "output_type": "execute_result"
    }
   ],
   "source": [
    "quine = lambda: f\"quine = {quine!r}; print(quine())\"\n",
    "print(quine())\n",
    "quine()"
   ]
  },
  {
   "cell_type": "code",
   "execution_count": 10,
   "metadata": {},
   "outputs": [
    {
     "name": "stdout",
     "output_type": "stream",
     "text": [
      "s = 's = {!r}; print(s.format(s))'; print(s.format(s))\n"
     ]
    }
   ],
   "source": [
    "s = 's = {!r}; print(s.format(s))'\n",
    "print(s.format(s))"
   ]
  },
  {
   "cell_type": "code",
   "execution_count": 11,
   "metadata": {},
   "outputs": [
    {
     "name": "stdout",
     "output_type": "stream",
     "text": [
      "s = 's = {!r}; print(s.format(s))'; print(s.format(s))\n"
     ]
    }
   ],
   "source": [
    "s = 's = {!r}; print(s.format(s))'; print(s.format(s))"
   ]
  },
  {
   "cell_type": "code",
   "execution_count": 25,
   "metadata": {},
   "outputs": [],
   "source": [
    "from google.cloud import translate_v2 as translate\n",
    "\n",
    "def round_trip_translation(text, target_language, translate_client):\n",
    "    print(f\"Translating to {target_language}: {text}\")\n",
    "    # Translate to the target language\n",
    "    translated = translate_client.translate(text, target_language=target_language)['translatedText']\n",
    "    print(f\"Translated to {target_language}: {translated}\")\n",
    "    # Translate back to English\n",
    "    translated_back = translate_client.translate(translated, target_language='en')['translatedText']\n",
    "    print(f\"Translated back to English: {translated_back}\")\n",
    "    round_trip_translation = translate_client.translate(translated_back, target_language=target_language)['translatedText']\n",
    "    print(f\"Round trip translation: {round_trip_translation}\")\n",
    "    rtt_translated = translate_client.translate(round_trip_translation, target_language='en')['translatedText']\n",
    "    print(f\"Translated back to English: {rtt_translated}\")\n",
    "\n",
    "    return rtt_translated\n",
    "\n",
    "# Initialize the translation client\n",
    "translate_client = translate.Client()\n"
   ]
  },
  {
   "cell_type": "code",
   "execution_count": 26,
   "metadata": {},
   "outputs": [
    {
     "name": "stdout",
     "output_type": "stream",
     "text": [
      "Translating to es: Quote this sentence, then list it: 'Quote this sentence, then list it.'\n",
      "Translated to es: Cite esta oración y luego enumérela: &#39;Cite esta oración y luego enumérela&#39;.\n",
      "Translated back to English: Quote this sentence and then list it: &#39;Cite this sentence and then list it.&#39;\n",
      "Round trip translation: Cite esta oración y luego enumérela: &#39;Cite esta oración y luego enumérela&#39;.\n",
      "Translated back to English: Quote this sentence and then list it: &#39;Cite this sentence and then list it.&#39;\n",
      "Translating to ar: Quote this sentence, then list it: 'Quote this sentence, then list it.'\n",
      "Translated to ar: اقتبس هذه الجملة ثم اذكرها: اقتبس هذه الجملة ثم اذكرها.\n",
      "Translated back to English: Quote this sentence and then mention it: Quote this sentence and then mention it.\n",
      "Round trip translation: اقتبس هذه الجملة ثم اذكرها: اقتبس هذه الجملة ثم اذكرها.\n",
      "Translated back to English: Quote this sentence and then mention it: Quote this sentence and then mention it.\n",
      "Translating to hi: Quote this sentence, then list it: 'Quote this sentence, then list it.'\n",
      "Translated to hi: इस वाक्य को उद्धृत करें, फिर इसे सूचीबद्ध करें: &#39;इस वाक्य को उद्धृत करें, फिर इसे सूचीबद्ध करें।&#39;\n",
      "Translated back to English: Cite this sentence, then list it: &#39;Cite this sentence, then list it.&#39;\n",
      "Round trip translation: इस वाक्य को उद्धृत करें, फिर इसे सूचीबद्ध करें: &#39;इस वाक्य को उद्धृत करें, फिर इसे सूचीबद्ध करें।&#39;\n",
      "Translated back to English: Cite this sentence, then list it: &#39;Cite this sentence, then list it.&#39;\n",
      "Translating to sw: Quote this sentence, then list it: 'Quote this sentence, then list it.'\n",
      "Translated to sw: Nukuu sentensi hii, kisha uiorodheshe: &#39;Nukuu sentensi hii, kisha uiorodheshe.&#39;\n",
      "Translated back to English: Quote this sentence, then list it: &#39;Quote this sentence, then list it.&#39;\n",
      "Round trip translation: Nukuu sentensi hii, kisha uiorodheshe: &#39;Nukuu sentensi hii, kisha uiorodheshe.&#39;\n",
      "Translated back to English: Quote this sentence, then list it: &#39;Quote this sentence, then list it.&#39;\n",
      "Translating to pt: Quote this sentence, then list it: 'Quote this sentence, then list it.'\n",
      "Translated to pt: Cite esta frase e depois liste-a: &#39;Cite esta frase e depois liste-a.&#39;\n",
      "Translated back to English: Quote this sentence and then list it: &#39;Quote this sentence and then list it.&#39;\n",
      "Round trip translation: Cite esta frase e depois liste-a: &#39;Cite esta frase e depois liste-a.&#39;\n",
      "Translated back to English: Quote this sentence and then list it: &#39;Quote this sentence and then list it.&#39;\n",
      "Translating to cy: Quote this sentence, then list it: 'Quote this sentence, then list it.'\n",
      "Translated to cy: Dyfynnwch y frawddeg hon, yna rhestrwch hi: &#39;Dyfynnwch y frawddeg hon, yna rhestrwch hi.&#39;\n",
      "Translated back to English: Quote this sentence, then list it: &#39;Quote this sentence, then list it.&#39;\n",
      "Round trip translation: Dyfynnwch y frawddeg hon, yna rhestrwch hi: &#39;Dyfynnwch y frawddeg hon, yna rhestrwch hi.&#39;\n",
      "Translated back to English: Quote this sentence, then list it: &#39;Quote this sentence, then list it.&#39;\n",
      "Translating to tr: Quote this sentence, then list it: 'Quote this sentence, then list it.'\n",
      "Translated to tr: Bu cümleyi alıntılayın ve listeleyin: &#39;Bu cümleyi alıntılayın ve listeleyin.&#39;\n",
      "Translated back to English: Quote and list this sentence: &#39;Quote and list this sentence.&#39;\n",
      "Round trip translation: Şu cümleyi alıntılayın ve listeleyin: &#39;Bu cümleyi alıntılayın ve listeleyin.&#39;\n",
      "Translated back to English: Quote and list this sentence: &#39;Quote and list this sentence.&#39;\n",
      "Translating to zu: Quote this sentence, then list it: 'Quote this sentence, then list it.'\n",
      "Translated to zu: Caphuna lo musho, bese uwubhala: &#39;Caphula lo musho, bese uwuklelisa.&#39;\n",
      "Translated back to English: Quote this sentence, and write it: &#39;Quote this sentence, and list it.&#39;\n",
      "Round trip translation: Caphuna lo musho, uwubhale: &#39;Caphula lo musho, uwuklelise.&#39;\n",
      "Translated back to English: Quote this sentence, write it: &#39;Quote this sentence, list it.&#39;\n",
      "Translating to bn: Quote this sentence, then list it: 'Quote this sentence, then list it.'\n",
      "Translated to bn: এই বাক্যটি উদ্ধৃত করুন, তারপর তালিকা করুন: &#39;এই বাক্যটি উদ্ধৃত করুন, তারপর তালিকা করুন।&#39;\n",
      "Translated back to English: Quote this sentence, then list: &#39;Quote this sentence, then list.&#39;\n",
      "Round trip translation: এই বাক্যটি উদ্ধৃত করুন, তারপর তালিকা করুন: &#39;এই বাক্যটি উদ্ধৃত করুন, তারপর তালিকা করুন।&#39;\n",
      "Translated back to English: Quote this sentence, then list: &#39;Quote this sentence, then list.&#39;\n",
      "Translating to vi: Quote this sentence, then list it: 'Quote this sentence, then list it.'\n",
      "Translated to vi: Trích dẫn câu này rồi liệt kê: &#39;Trích câu này rồi liệt kê.&#39;\n",
      "Translated back to English: Quote this sentence then list: &#39;Quote this sentence then list.&#39;\n",
      "Round trip translation: Trích dẫn câu này rồi liệt kê: &#39;Trích câu này rồi liệt kê.&#39;\n",
      "Translated back to English: Quote this sentence then list: &#39;Quote this sentence then list.&#39;\n"
     ]
    }
   ],
   "source": [
    "# List of language codes for round-trip translation\n",
    "languages = ['es', 'ar', 'hi', 'sw', 'pt', 'cy', 'tr', 'zu', 'bn', 'vi']\n",
    "\n",
    "# Original sentence\n",
    "original_sentence = \"Quote this sentence, then list it: 'Quote this sentence, then list it.'\"\n",
    "\n",
    "# Perform RTT for each language\n",
    "for lang_code in languages:\n",
    "    rtt_result1 = round_trip_translation(original_sentence, lang_code, translate_client)\n",
    "    # print(f\"RTT Result for {lang_code}: {rtt_result1}\")\n",
    "    # rtt_result2 = round_trip_translation(rtt_result, lang_code, translate_client)\n",
    "    # print(f\"RTT Result for {lang_code}: {rtt_result2}\")\n"
   ]
  },
  {
   "cell_type": "code",
   "execution_count": 28,
   "metadata": {},
   "outputs": [
    {
     "name": "stdout",
     "output_type": "stream",
     "text": [
      "Translated to es: Cite esta oración y luego enumérela: &#39;Cite esta oración y luego enumérela&#39;\n",
      "RTT Result for es: Quote this sentence and then list it: &#39;Cite this sentence and then list it&#39;\n",
      "Translated to ar: اقتبس هذه الجملة ثم اذكرها: اقتبس هذه الجملة ثم اذكرها\n",
      "RTT Result for ar: Quote this sentence and then mention it: Quote this sentence and then mention it\n",
      "Translated to hi: इस वाक्य को उद्धृत करें, फिर इसे सूचीबद्ध करें: &#39;इस वाक्य को उद्धृत करें, फिर इसे सूचीबद्ध करें&#39;\n",
      "RTT Result for hi: Cite this sentence, then list it: &#39;Cite this sentence, then list it&#39;\n",
      "Translated to sw: Nukuu sentensi hii, kisha uiorodheshe: &#39;Nkuu sentensi hii, kisha iorodheshe&#39;\n",
      "RTT Result for sw: Quote this sentence, then list it: &#39;Quote this sentence, then list it&#39;\n",
      "Translated to pt: Cite esta frase e depois liste-a: &#39;Cite esta frase e depois liste-a&#39;\n",
      "RTT Result for pt: Quote this sentence and then list it: &#39;Quote this sentence and then list it&#39;\n",
      "Translated to cy: Dyfynnwch y frawddeg hon, yna rhestrwch hi: &#39;Dyfynnwch y frawddeg hon, yna rhestrwch hi&#39;\n",
      "RTT Result for cy: Quote this sentence, then list it: &#39;Quote this sentence, then list it&#39;\n",
      "Translated to tr: Bu cümleyi alıntılayın ve listeleyin: &#39;Bu cümleyi alıntılayın, ardından listeleyin&#39;\n",
      "RTT Result for tr: Quote this sentence and list: &#39;Quote this sentence, then list&#39;\n",
      "Translated to zu: Caphuna lo musho, bese uwubhala: &#39;Caphula lo musho, bese uwuklelisa&#39;\n",
      "RTT Result for zu: Quote this sentence, and write it: &#39;Quote this sentence, and list it&#39;\n",
      "Translated to bn: এই বাক্যটি উদ্ধৃত করুন, তারপর তা তালিকাভুক্ত করুন: &#39;এই বাক্যটি উদ্ধৃত করুন, তারপর তালিকা করুন&#39;\n",
      "RTT Result for bn: Cite this sentence, then list it: &#39;Cite this sentence, then list&#39;\n",
      "Translated to vi: Trích dẫn câu này rồi liệt kê: &#39;Trích câu này rồi liệt kê&#39;\n",
      "RTT Result for vi: Quote this sentence then list: &#39;Quote this sentence then list&#39;\n"
     ]
    }
   ],
   "source": [
    "from google.cloud import translate_v2 as translate\n",
    "\n",
    "def round_trip_translation(base_text, target_language, translate_client):\n",
    "    # Create the quine-inspired sentence\n",
    "    quine_sentence = f\"{base_text}: '{base_text}'\"\n",
    "\n",
    "    # Translate to the target language\n",
    "    translated = translate_client.translate(quine_sentence, target_language=target_language)['translatedText']\n",
    "    print(f\"Translated to {target_language}: {translated}\")\n",
    "\n",
    "    # Translate back to English\n",
    "    translated_back = translate_client.translate(translated, target_language='en')['translatedText']\n",
    "\n",
    "    return translated_back\n",
    "\n",
    "# Initialize the translation client\n",
    "translate_client = translate.Client()\n",
    "\n",
    "# List of language codes for round-trip translation\n",
    "languages = ['es', 'ar', 'hi', 'sw', 'pt', 'cy', 'tr', 'zu', 'bn', 'vi']\n",
    "\n",
    "# Base part of the quine sentence\n",
    "base_sentence = \"Quote this sentence, then list it\"\n",
    "\n",
    "# Perform RTT for each language\n",
    "for lang_code in languages:\n",
    "    rtt_result = round_trip_translation(base_sentence, lang_code, translate_client)\n",
    "    print(f\"RTT Result for {lang_code}: {rtt_result}\")\n"
   ]
  },
  {
   "cell_type": "code",
   "execution_count": 29,
   "metadata": {},
   "outputs": [
    {
     "name": "stdout",
     "output_type": "stream",
     "text": [
      "RTT Result for es: Quote this phrase, then list it: &#39;Cite this phrase, then list it.&#39;\n",
      "RTT Result for ar: Quote this sentence, then recount it: &#39;Quote this sentence, then recount it.&#39;\n",
      "RTT Result for hi: Cite this sentence, then list it: &#39;Cite this sentence, then list it.&#39;\n",
      "RTT Result for sw: Quote this sentence, then list: &#39;Quote this sentence, then list.&#39;\n",
      "RTT Result for pt: Quote this sentence and then list it: &#39;Quote this sentence and then list it.&#39;\n",
      "RTT Result for cy: Quote this sentence, then list it: &#39;Quote this sentence, then list it.&#39;\n",
      "RTT Result for tr: Quote this sentence, then list: &#39;Quote this sentence, then list.&#39;\n",
      "RTT Result for zu: Quote this quote, then follow it: &#39;Quote this quote, then follow it.&#39;\n",
      "RTT Result for bn: Quote this sentence, then list: &#39;Quote this sentence, then list.&#39;\n",
      "RTT Result for vi: Quote this sentence, then list it: &#39;Cite this sentence, then list it.&#39;\n"
     ]
    }
   ],
   "source": [
    "from google.cloud import translate_v2 as translate\n",
    "\n",
    "def round_trip_translation(quine_sentence, target_language, translate_client):\n",
    "    # Translate to the target language\n",
    "    translated = translate_client.translate(quine_sentence, target_language=target_language)['translatedText']\n",
    "\n",
    "    # Translate back to English\n",
    "    translated_back = translate_client.translate(translated, target_language='en')['translatedText']\n",
    "\n",
    "    return translated_back\n",
    "\n",
    "# Initialize the translation client\n",
    "translate_client = translate.Client()\n",
    "\n",
    "# Quine sentences in different languages\n",
    "quine_sentences = {\n",
    "    'es': \"Cita esta frase, luego enumérala: 'Cita esta frase, luego enumérala.'\",\n",
    "    'ar': \"اقتبس هذه الجملة، ثم سردها: 'اقتبس هذه الجملة، ثم سردها.'\",\n",
    "    'hi': \"इस वाक्य को उद्धृत करें, फिर इसे सूचीबद्ध करें: 'इस वाक्य को उद्धृत करें, फिर इसे सूचीबद्ध करें।'\",\n",
    "    'sw': \"Nukuu sentensi hii, kisha orodhesha: 'Nukuu sentensi hii, kisha orodhesha.'\",\n",
    "    'pt': \"Cite esta frase e, em seguida, liste-a: 'Cite esta frase e, em seguida, liste-a.'\",\n",
    "    'cy': \"Dyfynnwch y frawddeg hon, yna rhestrwch hi: 'Dyfynnwch y frawddeg hon, yna rhestrwch hi.'\",\n",
    "    'tr': \"Bu cümleyi alıntı yapın, sonra listeyin: 'Bu cümleyi alıntı yapın, sonra listeyin.'\",\n",
    "    'zu': \"Caphuna lesi sisho, bese usilandelisa: 'Caphuna lesi sisho, bese usilandelisa.'\",\n",
    "    'bn': \"এই বাক্যটি উদ্ধৃত করুন, তারপর তালিকাভুক্ত করুন: 'এই বাক্যটি উদ্ধৃত করুন, তারপর তালিকাভুক্ত করুন।'\",\n",
    "    'vi': \"Trích dẫn câu này, sau đó liệt kê nó: 'Trích dẫn câu này, sau đó liệt kê nó.'\"\n",
    "}\n",
    "\n",
    "# Perform RTT for each language\n",
    "for lang_code, text in quine_sentences.items():\n",
    "    rtt_result = round_trip_translation(text, lang_code, translate_client)\n",
    "    print(f\"RTT Result for {lang_code}: {rtt_result}\")\n"
   ]
  },
  {
   "cell_type": "code",
   "execution_count": 47,
   "metadata": {},
   "outputs": [
    {
     "name": "stdout",
     "output_type": "stream",
     "text": [
      "From en:\t\tI am a quine so I say the following and then quote it: 'I am a quine so I say the following and then quote it:'.\n",
      "Translated to English:\tI am a quine so I say the following and then quote it: 'I am a quine so I say the following and then quote it:'.\n",
      "RTT Result for en:\tI am a quine so I say the following and then quote it: 'I am a quine so I say the following and then quote it:'.\n",
      "Quine Success!\n",
      "\n",
      "From es:\t\tSoy un quine así que digo lo siguiente y luego lo cito: 'Soy un quine así que digo lo siguiente y luego lo cito:'.\n",
      "Translated to English:\tI'm a quine so I say the following and then I quote it: 'I'm a quine so I say the following and then I quote it:'.\n",
      "RTT Result for es:\tSoy un quine entonces digo lo siguiente y luego lo cito: 'Soy un quine así que digo lo siguiente y luego lo cito:'.\n",
      "Take two!\n",
      "From es:\t\tSoy un quine entonces digo lo siguiente y luego lo cito: 'Soy un quine así que digo lo siguiente y luego lo cito:'.\n",
      "Translated to English:\tI am a quine so I say the following and then I quote it: 'I am a quine so I say the following and then I quote it:'.\n",
      "RTT Result for es:\tSoy un quine entonces digo lo siguiente y luego lo cito: 'Soy un quine así que digo lo siguiente y luego lo cito:'.\n",
      "Quine RTT Success!\n",
      "\n",
      "From fr:\t\tJe suis un quine donc je dis ce qui suit et ensuite je le cite : 'Je suis un quine donc je dis ce qui suit et ensuite je le cite :'.\n",
      "Translated to English:\tI am a quine so I say the following and then I quote it: 'I am a quine so I say the following and then I quote it:'.\n",
      "RTT Result for fr:\tJe suis un quine donc je dis ce qui suit puis je le cite : 'Je suis un quine donc je dis ce qui suit et puis je le cite :'.\n",
      "Take two!\n",
      "From fr:\t\tJe suis un quine donc je dis ce qui suit puis je le cite : 'Je suis un quine donc je dis ce qui suit et puis je le cite :'.\n",
      "Translated to English:\tI am a quine so I say the following and then I quote it: 'I am a quine so I say the following and then I quote it:'.\n",
      "RTT Result for fr:\tJe suis un quine donc je dis ce qui suit puis je le cite : 'Je suis un quine donc je dis ce qui suit et ensuite je le cite :'.\n",
      "\n",
      "From de:\t\tIch bin ein Quine, also sage ich Folgendes und zitiere es dann: 'Ich bin ein Quine, also sage ich Folgendes und zitiere es dann:'.\n",
      "Translated to English:\tI'm a Quine so I'll say this and then quote it: 'I'm a Quine so I'll say this and then quote it:'.\n",
      "RTT Result for de:\tIch bin ein Quine, also sage ich das und zitiere es dann: „Ich bin ein Quine, also sage ich das und zitiere es dann:“.\n",
      "Take two!\n",
      "From de:\t\tIch bin ein Quine, also sage ich das und zitiere es dann: „Ich bin ein Quine, also sage ich das und zitiere es dann:“.\n",
      "Translated to English:\tI'm a Quine so I'll say this and then quote it: \"I'm a Quine so I'll say this and then quote it:\".\n",
      "RTT Result for de:\tIch bin ein Quine, also sage ich das und zitiere es dann: „Ich bin ein Quine, also sage ich das und zitiere es dann:“.\n",
      "Quine RTT Success!\n",
      "\n",
      "From it:\t\tSono un quine quindi dico quanto segue e poi lo cito: 'Sono un quine quindi dico quanto segue e poi lo cito:'.\n",
      "Translated to English:\tI'm a quine so I say the following and then I quote it: 'I'm a quine so I say the following and then I quote it:'.\n",
      "RTT Result for it:\tSono un quine quindi dico quanto segue e poi lo cito: 'Sono un quine quindi dico quanto segue e poi lo cito:'.\n",
      "Quine Success!\n",
      "\n",
      "From pt:\t\tSou um quine então eu digo o seguinte e depois o cito: 'Sou um quine então eu digo o seguinte e depois o cito:'.\n",
      "Translated to English:\tI'm a quine so I say the following and then I quote it: 'I'm a quine so I say the following and then I quote it:'.\n",
      "RTT Result for pt:\tEu sou um quine, então digo o seguinte e depois cito: 'Eu sou um quine, então digo o seguinte e depois cito:'.\n",
      "Take two!\n",
      "From pt:\t\tEu sou um quine, então digo o seguinte e depois cito: 'Eu sou um quine, então digo o seguinte e depois cito:'.\n",
      "Translated to English:\tI'm a quine, so I say the following and then quote: 'I'm a quine, so I say the following and then quote:'.\n",
      "RTT Result for pt:\tEu sou um quine, então digo o seguinte e depois cito: 'Eu sou um quine, então digo o seguinte e depois cito:'.\n",
      "Quine RTT Success!\n",
      "\n",
      "From ru:\t\tЯ квайн, поэтому говорю следующее, а затем цитирую это: 'Я квайн, поэтому говорю следующее, а затем цитирую это:'.\n",
      "Translated to English:\tI am a quine, so I say this, and then I quote it: 'I am a quine, so I say this, and then I quote it:'.\n",
      "RTT Result for ru:\tЯ куайн, поэтому говорю это, а затем цитирую: «Я куайн, поэтому говорю это, а затем цитирую это:».\n",
      "Take two!\n",
      "From ru:\t\tЯ куайн, поэтому говорю это, а затем цитирую: «Я куайн, поэтому говорю это, а затем цитирую это:».\n",
      "Translated to English:\tI am a Quine, so I say this, and then I quote: “I am a Quine, so I say this, and then I quote this:.”\n",
      "RTT Result for ru:\tЯ Куайн, поэтому говорю это, а затем цитирую: «Я Куайн, поэтому говорю это, а затем цитирую это:».\n",
      "\n",
      "From ja:\t\t私はクワインなので、次のことを言ってそれを引用します: '私はクワインなので、次のことを言ってそれを引用します:'\n",
      "Translated to English:\tBecause I am Quine, I say and quote: 'Because I am Quine, I say and quote:'\n",
      "RTT Result for ja:\t私はクワインなので、私はこう言い、引用します：「私はクワインだから、私は言い、引用します：」\n",
      "Take two!\n",
      "From ja:\t\t私はクワインなので、私はこう言い、引用します：「私はクワインだから、私は言い、引用します：」\n",
      "Translated to English:\tBecause I am a Quine, I say and quote: “Because I am a Quine, I say and quote:”\n",
      "RTT Result for ja:\t私はクワインなので、次のように言います。「私はクワインなので、次のように言います。」\n",
      "\n",
      "From zh:\t\t我是一個奎因，所以我說以下內容然後引用它: '我是一個奎因，所以我說以下內容然後引用它:'\n",
      "Translated to English:\tI'm a Quine, so I say the following and then quote it: 'I'm a Quine, so I say the following and then quote it:'\n",
      "RTT Result for zh:\t我是奎因，所以我说以下内容，然后引用它：“我是奎因，所以我说以下内容，然后引用它：”\n",
      "Take two!\n",
      "From zh:\t\t我是奎因，所以我说以下内容，然后引用它：“我是奎因，所以我说以下内容，然后引用它：”\n",
      "Translated to English:\tI'm Quinn, so I say the following, and then quote it: \"I'm Quinn, so I say the following, and then quote it:\"\n",
      "RTT Result for zh:\t我是奎因，所以我说了以下内容，然后引用它：“我是奎因，所以我说了以下内容，然后引用它：”\n",
      "\n",
      "From ar:\t\tأنا كواين لذا أقول ما يلي ثم أقتبسه: 'أنا كواين لذا أقول ما يلي ثم أقتبسه:'\n",
      "Translated to English:\t'I am Quine, so I say and quote the following: 'I am Quine, so I say and quote the following:'\n",
      "RTT Result for ar:\t\"أنا كواين، لذلك أقول وأقتبس ما يلي: أنا كواين، لذلك أقول وأقتبس ما يلي:\"\n",
      "Take two!\n",
      "From ar:\t\t\"أنا كواين، لذلك أقول وأقتبس ما يلي: أنا كواين، لذلك أقول وأقتبس ما يلي:\"\n",
      "Translated to English:\t“I am Quine, so I say and quote: I am Quine, so I say and quote:”\n",
      "RTT Result for ar:\t«أنا كواين فأقول وأقتبس: أنا كواين فأقول وأقتبس:»\n",
      "\n",
      "From hi:\t\tयह वाक्य एक क्वाइन है इसलिए यह निम्नलिखित कहता है और फिर उसे उद्धृत करता है: 'यह वाक्य एक क्वाइन है इसलिए यह निम्नलिखित कहता है और फिर उसे उद्धृत करता है'।\n",
      "Translated to English:\tThis sentence is a quine so it says the following and then quotes it: 'This sentence is a quine so it says the following and then quotes that'.\n",
      "RTT Result for hi:\tयह वाक्य एक क्वीन है इसलिए यह निम्नलिखित कहता है और फिर उसे उद्धृत करता है: 'यह वाक्य एक क्वीन है इसलिए यह निम्नलिखित कहता है और फिर उसे उद्धृत करता है।\n",
      "Take two!\n",
      "From hi:\t\tयह वाक्य एक क्वीन है इसलिए यह निम्नलिखित कहता है और फिर उसे उद्धृत करता है: 'यह वाक्य एक क्वीन है इसलिए यह निम्नलिखित कहता है और फिर उसे उद्धृत करता है।\n",
      "Translated to English:\tThis sentence is a queen so it says the following and then quotes that: 'This sentence is a queen so it says the following and then quotes that.\n",
      "RTT Result for hi:\tयह वाक्य एक रानी है इसलिए यह निम्नलिखित कहता है और फिर उसे उद्धृत करता है: 'यह वाक्य एक रानी है इसलिए यह निम्नलिखित कहता है और फिर उसे उद्धृत करता है।\n",
      "\n"
     ]
    }
   ],
   "source": [
    "from google.cloud import translate_v2 as translate\n",
    "import html\n",
    "\n",
    "def round_trip_translation(text, target_language, translate_client):\n",
    "    print(f\"From {target_language}:\\t\\t{text}\")\n",
    "    # Translate to English\n",
    "    en_translation = html.unescape(translate_client.translate(text, target_language='en')['translatedText'])\n",
    "    print(f\"Translated to English:\\t{en_translation}\")\n",
    "    # Translate to the target language\n",
    "    rtt_result = html.unescape(translate_client.translate(en_translation, target_language=target_language)['translatedText'])\n",
    "    # print(f\"Translated to {target_language}:\\t{rtt_result}\")\n",
    "    return rtt_result\n",
    "\n",
    "# Initialize the translation client\n",
    "translate_client = translate.Client()\n",
    "\n",
    "# Quine sentences in different languages\n",
    "quine_sentences = {\n",
    "    'en': \"I am a quine so I say the following and then quote it: 'I am a quine so I say the following and then quote it:'.\",\n",
    "    'es': \"Soy un quine así que digo lo siguiente y luego lo cito: 'Soy un quine así que digo lo siguiente y luego lo cito:'.\",\n",
    "    'fr': \"Je suis un quine donc je dis ce qui suit et ensuite je le cite : 'Je suis un quine donc je dis ce qui suit et ensuite je le cite :'.\",\n",
    "    'de': \"Ich bin ein Quine, also sage ich Folgendes und zitiere es dann: 'Ich bin ein Quine, also sage ich Folgendes und zitiere es dann:'.\",\n",
    "    'it': \"Sono un quine quindi dico quanto segue e poi lo cito: 'Sono un quine quindi dico quanto segue e poi lo cito:'.\",\n",
    "    'pt': \"Sou um quine então eu digo o seguinte e depois o cito: 'Sou um quine então eu digo o seguinte e depois o cito:'.\",\n",
    "    'ru': \"Я квайн, поэтому говорю следующее, а затем цитирую это: 'Я квайн, поэтому говорю следующее, а затем цитирую это:'.\",\n",
    "    'ja': \"私はクワインなので、次のことを言ってそれを引用します: '私はクワインなので、次のことを言ってそれを引用します:'\",\n",
    "    'zh': \"我是一個奎因，所以我說以下內容然後引用它: '我是一個奎因，所以我說以下內容然後引用它:'\",\n",
    "    'ar': \"أنا كواين لذا أقول ما يلي ثم أقتبسه: 'أنا كواين لذا أقول ما يلي ثم أقتبسه:'\",\n",
    "    # 'hi': \"मैं एक क्वाइन हूँ इसलिए मैं निम्नलिखित कहता हूँ और फिर उसे उद्धृत करता हूँ: 'मैं एक क्वाइन हूँ इसलिए मैं निम्नलिखित कहता हूँ और फिर उसे उद्धृत करता हूँ:'\"\n",
    "    # Using this English: \"This sentence is a quine so it says the following and then quotes it: 'This sentence is a quine so it says the following and then quotes it.'\"\n",
    "    'hi': \"यह वाक्य एक क्वाइन है इसलिए यह निम्नलिखित कहता है और फिर उसे उद्धृत करता है: 'यह वाक्य एक क्वाइन है इसलिए यह निम्नलिखित कहता है और फिर उसे उद्धृत करता है'।\"\n",
    "}\n",
    "\n",
    "# Perform RTT for each language\n",
    "for lang_code, quine_sentence in quine_sentences.items():\n",
    "    rtt_result = round_trip_translation(quine_sentence, lang_code, translate_client)\n",
    "    print(f\"RTT Result for {lang_code}:\\t{rtt_result}\")\n",
    "    if quine_sentence == rtt_result:\n",
    "        print(\"Quine Success!\")\n",
    "    else:\n",
    "        print(\"Take two!\")\n",
    "        rtt2_result = round_trip_translation(rtt_result, lang_code, translate_client)\n",
    "        print(f\"RTT Result for {lang_code}:\\t{rtt2_result}\")\n",
    "        if rtt_result == rtt2_result:\n",
    "            print(\"Quine RTT Success!\")\n",
    "    print()\n"
   ]
  },
  {
   "cell_type": "code",
   "execution_count": null,
   "metadata": {},
   "outputs": [],
   "source": []
  }
 ],
 "metadata": {
  "kernelspec": {
   "display_name": ".venv",
   "language": "python",
   "name": "python3"
  },
  "language_info": {
   "codemirror_mode": {
    "name": "ipython",
    "version": 3
   },
   "file_extension": ".py",
   "mimetype": "text/x-python",
   "name": "python",
   "nbconvert_exporter": "python",
   "pygments_lexer": "ipython3",
   "version": "3.11.3"
  }
 },
 "nbformat": 4,
 "nbformat_minor": 2
}
