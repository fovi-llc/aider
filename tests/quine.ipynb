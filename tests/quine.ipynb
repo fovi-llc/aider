{
 "cells": [
  {
   "cell_type": "code",
   "execution_count": 1,
   "metadata": {},
   "outputs": [
    {
     "data": {
      "text/plain": [
       "True"
      ]
     },
     "execution_count": 1,
     "metadata": {},
     "output_type": "execute_result"
    }
   ],
   "source": [
    "len(\"This sentence has five words.\".split()) == 5"
   ]
  },
  {
   "cell_type": "code",
   "execution_count": 2,
   "metadata": {},
   "outputs": [
    {
     "name": "stdout",
     "output_type": "stream",
     "text": [
      "quine = <function <lambda> at 0x103585d00>; print(quine())\n"
     ]
    },
    {
     "data": {
      "text/plain": [
       "'quine = <function <lambda> at 0x103585d00>; print(quine())'"
      ]
     },
     "execution_count": 2,
     "metadata": {},
     "output_type": "execute_result"
    }
   ],
   "source": [
    "quine = lambda: f\"quine = {quine!r}; print(quine())\"\n",
    "print(quine())\n",
    "quine()"
   ]
  },
  {
   "cell_type": "code",
   "execution_count": 3,
   "metadata": {},
   "outputs": [
    {
     "name": "stdout",
     "output_type": "stream",
     "text": [
      "s = 's = {!r}; print(s.format(s))'; print(s.format(s))\n"
     ]
    }
   ],
   "source": [
    "s = 's = {!r}; print(s.format(s))'\n",
    "print(s.format(s))"
   ]
  },
  {
   "cell_type": "code",
   "execution_count": 4,
   "metadata": {},
   "outputs": [
    {
     "name": "stdout",
     "output_type": "stream",
     "text": [
      "s = 's = {!r}; print(s.format(s))'; print(s.format(s))\n"
     ]
    }
   ],
   "source": [
    "s = 's = {!r}; print(s.format(s))'; print(s.format(s))"
   ]
  },
  {
   "cell_type": "code",
   "execution_count": 5,
   "metadata": {},
   "outputs": [],
   "source": [
    "from google.cloud import translate_v2 as translate\n",
    "\n",
    "def round_trip_translation(text, target_language, translate_client):\n",
    "    print(f\"Translating to {target_language}: {text}\")\n",
    "    # Translate to the target language\n",
    "    translated = translate_client.translate(text, target_language=target_language)['translatedText']\n",
    "    print(f\"Translated to {target_language}: {translated}\")\n",
    "    # Translate back to English\n",
    "    translated_back = translate_client.translate(translated, target_language='en')['translatedText']\n",
    "    print(f\"Translated back to English: {translated_back}\")\n",
    "    round_trip_translation = translate_client.translate(translated_back, target_language=target_language)['translatedText']\n",
    "    print(f\"Round trip translation: {round_trip_translation}\")\n",
    "    rtt_translated = translate_client.translate(round_trip_translation, target_language='en')['translatedText']\n",
    "    print(f\"Translated back to English: {rtt_translated}\")\n",
    "\n",
    "    return rtt_translated\n",
    "\n",
    "# Initialize the translation client\n",
    "translate_client = translate.Client()\n"
   ]
  },
  {
   "cell_type": "code",
   "execution_count": 7,
   "metadata": {},
   "outputs": [
    {
     "name": "stdout",
     "output_type": "stream",
     "text": [
      "From en:\t\tI am a quine so I say the following and then quote it: 'I am a quine so I say the following and then quote it:'.\n",
      "Translated to English:\tI am a quine so I say the following and then quote it: 'I am a quine so I say the following and then quote it:'.\n",
      "RTT Result for en:\tI am a quine so I say the following and then quote it: 'I am a quine so I say the following and then quote it:'.\n",
      "Quine Success!\n",
      "\n",
      "From es:\t\tSoy un quine así que digo lo siguiente y luego lo cito: 'Soy un quine así que digo lo siguiente y luego lo cito:'.\n",
      "Translated to English:\tI'm a quine so I say the following and then I quote it: 'I'm a quine so I say the following and then I quote it:'.\n",
      "RTT Result for es:\tSoy un quine entonces digo lo siguiente y luego lo cito: 'Soy un quine así que digo lo siguiente y luego lo cito:'.\n",
      "Take two!\n",
      "From es:\t\tSoy un quine entonces digo lo siguiente y luego lo cito: 'Soy un quine así que digo lo siguiente y luego lo cito:'.\n",
      "Translated to English:\tI am a quine so I say the following and then I quote it: 'I am a quine so I say the following and then I quote it:'.\n",
      "RTT Result for es:\tSoy un quine entonces digo lo siguiente y luego lo cito: 'Soy un quine así que digo lo siguiente y luego lo cito:'.\n",
      "Quine RTT Success!\n",
      "\n",
      "From fr:\t\tJe suis un quine donc je dis ce qui suit et ensuite je le cite : 'Je suis un quine donc je dis ce qui suit et ensuite je le cite :'.\n",
      "Translated to English:\tI am a quine so I say the following and then I quote it: 'I am a quine so I say the following and then I quote it:'.\n",
      "RTT Result for fr:\tJe suis un quine donc je dis ce qui suit puis je le cite : 'Je suis un quine donc je dis ce qui suit et puis je le cite :'.\n",
      "Take two!\n",
      "From fr:\t\tJe suis un quine donc je dis ce qui suit puis je le cite : 'Je suis un quine donc je dis ce qui suit et puis je le cite :'.\n",
      "Translated to English:\tI am a quine so I say the following and then I quote it: 'I am a quine so I say the following and then I quote it:'.\n",
      "RTT Result for fr:\tJe suis un quine donc je dis ce qui suit puis je le cite : 'Je suis un quine donc je dis ce qui suit et puis je le cite :'.\n",
      "Quine RTT Success!\n",
      "\n",
      "From de:\t\tIch bin ein Quine, also sage ich Folgendes und zitiere es dann: 'Ich bin ein Quine, also sage ich Folgendes und zitiere es dann:'.\n",
      "Translated to English:\tI'm a Quine so I'll say this and then quote it: 'I'm a Quine so I'll say this and then quote it:'.\n",
      "RTT Result for de:\tIch bin ein Quine, also sage ich das und zitiere es dann: „Ich bin ein Quine, also sage ich das und zitiere es dann:“.\n",
      "Take two!\n",
      "From de:\t\tIch bin ein Quine, also sage ich das und zitiere es dann: „Ich bin ein Quine, also sage ich das und zitiere es dann:“.\n",
      "Translated to English:\tI'm a Quine so I'll say this and then quote it: \"I'm a Quine so I'll say this and then quote it:\".\n",
      "RTT Result for de:\tIch bin ein Quine, also sage ich das und zitiere es dann: „Ich bin ein Quine, also sage ich das und zitiere es dann:“.\n",
      "Quine RTT Success!\n",
      "\n",
      "From it:\t\tSono un quine quindi dico quanto segue e poi lo cito: 'Sono un quine quindi dico quanto segue e poi lo cito:'.\n",
      "Translated to English:\tI'm a quine so I say the following and then I quote it: 'I'm a quine so I say the following and then I quote it:'.\n",
      "RTT Result for it:\tSono un quine quindi dico quanto segue e poi lo cito: 'Sono un quine quindi dico quanto segue e poi lo cito:'.\n",
      "Quine Success!\n",
      "\n",
      "From pt:\t\tSou um quine então eu digo o seguinte e depois o cito: 'Sou um quine então eu digo o seguinte e depois o cito:'.\n",
      "Translated to English:\tI'm a quine so I say the following and then I quote it: 'I'm a quine so I say the following and then I quote it:'.\n",
      "RTT Result for pt:\tEu sou um quine, então digo o seguinte e depois cito: 'Eu sou um quine, então digo o seguinte e depois cito:'.\n",
      "Take two!\n",
      "From pt:\t\tEu sou um quine, então digo o seguinte e depois cito: 'Eu sou um quine, então digo o seguinte e depois cito:'.\n",
      "Translated to English:\tI'm a quine, so I say the following and then quote: 'I'm a quine, so I say the following and then quote:'.\n",
      "RTT Result for pt:\tEu sou um quine, então digo o seguinte e depois cito: 'Eu sou um quine, então digo o seguinte e depois cito:'.\n",
      "Quine RTT Success!\n",
      "\n",
      "From ru:\t\tЯ квайн, поэтому говорю следующее, а затем цитирую это: 'Я квайн, поэтому говорю следующее, а затем цитирую это:'.\n",
      "Translated to English:\tI am a quine, so I say this, and then I quote it: 'I am a quine, so I say this, and then I quote this:'.\n",
      "RTT Result for ru:\tЯ куайн, поэтому говорю это, а затем цитирую: «Я куайн, поэтому говорю это, а затем цитирую это:».\n",
      "Take two!\n",
      "From ru:\t\tЯ куайн, поэтому говорю это, а затем цитирую: «Я куайн, поэтому говорю это, а затем цитирую это:».\n",
      "Translated to English:\tI am a Quine, so I say this and then I quote: “I am a Quine, so I say this and then I quote this:.”\n",
      "RTT Result for ru:\tЯ Куайн, поэтому говорю это, а затем цитирую: «Я Куайн, поэтому говорю это, а затем цитирую это:».\n",
      "\n",
      "From ja:\t\t私はクワインなので、次のことを言ってそれを引用します: '私はクワインなので、次のことを言ってそれを引用します:'\n",
      "Translated to English:\tBecause I am Quine, I say and quote: 'Because I am Quine, I say and quote:'\n",
      "RTT Result for ja:\t私はクワインなので、私はこう言い、引用します：「私はクワインだから、私は言い、引用します：」\n",
      "Take two!\n",
      "From ja:\t\t私はクワインなので、私はこう言い、引用します：「私はクワインだから、私は言い、引用します：」\n",
      "Translated to English:\tBecause I am a Quine, I say and quote: “Because I am a Quine, I say and quote:”\n",
      "RTT Result for ja:\t私はクワインなので、次のように言います。「私はクワインなので、次のように言います。」\n",
      "\n",
      "From zh:\t\t我是一個奎因，所以我說以下內容然後引用它: '我是一個奎因，所以我說以下內容然後引用它:'\n",
      "Translated to English:\tI'm a Quine, so I say the following and then quote it: 'I'm a Quine, so I say the following and then quote it:'\n",
      "RTT Result for zh:\t我是奎因，所以我说以下内容，然后引用它：“我是奎因，所以我说以下内容，然后引用它：”\n",
      "Take two!\n",
      "From zh:\t\t我是奎因，所以我说以下内容，然后引用它：“我是奎因，所以我说以下内容，然后引用它：”\n",
      "Translated to English:\tI'm Quinn, so I say the following, and then quote it: \"I'm Quinn, so I say the following, and then quote it:\"\n",
      "RTT Result for zh:\t我是奎因，所以我说以下内容，然后引用它：“我是奎因，所以我说以下内容，然后引用它：”\n",
      "Quine RTT Success!\n",
      "\n",
      "From ar:\t\tأنا كواين لذا أقول ما يلي ثم أقتبسه: 'أنا كواين لذا أقول ما يلي ثم أقتبسه:'\n",
      "Translated to English:\t'I am Quine, so I say and quote the following: 'I am Quine, so I say and quote the following:'\n",
      "RTT Result for ar:\t\"أنا كواين، لذلك أقول وأقتبس ما يلي: أنا كواين، لذلك أقول وأقتبس ما يلي:\"\n",
      "Take two!\n",
      "From ar:\t\t\"أنا كواين، لذلك أقول وأقتبس ما يلي: أنا كواين، لذلك أقول وأقتبس ما يلي:\"\n",
      "Translated to English:\t“I am Quine, so I say and quote: I am Quine, so I say and quote:”\n",
      "RTT Result for ar:\t«أنا كواين فأقول وأقتبس: أنا كواين فأقول وأقتبس:»\n",
      "\n",
      "From hi:\t\tयह वाक्य एक क्वाइन है इसलिए यह निम्नलिखित कहता है और फिर उसे उद्धृत करता है: 'यह वाक्य एक क्वाइन है इसलिए यह निम्नलिखित कहता है और फिर उसे उद्धृत करता है'।\n",
      "Translated to English:\tThis sentence is a quine so it says the following and then quotes it: 'This sentence is a quine so it says the following and then quotes that'.\n",
      "RTT Result for hi:\tयह वाक्य एक क्वीन है इसलिए यह निम्नलिखित कहता है और फिर उसे उद्धृत करता है: 'यह वाक्य एक क्वीन है इसलिए यह निम्नलिखित कहता है और फिर उसे उद्धृत करता है।\n",
      "Take two!\n",
      "From hi:\t\tयह वाक्य एक क्वीन है इसलिए यह निम्नलिखित कहता है और फिर उसे उद्धृत करता है: 'यह वाक्य एक क्वीन है इसलिए यह निम्नलिखित कहता है और फिर उसे उद्धृत करता है।\n",
      "Translated to English:\tThis sentence is a queen so it says the following and then quotes that: 'This sentence is a queen so it says the following and then quotes that.\n",
      "RTT Result for hi:\tयह वाक्य एक रानी है इसलिए यह निम्नलिखित कहता है और फिर उसे उद्धृत करता है: 'यह वाक्य एक रानी है इसलिए यह निम्नलिखित कहता है और फिर उसे उद्धृत करता है।\n",
      "\n"
     ]
    }
   ],
   "source": [
    "import html\n",
    "\n",
    "def round_trip_translation(text, target_language, translate_client):\n",
    "    print(f\"From {target_language}:\\t\\t{text}\")\n",
    "    # Translate to English\n",
    "    en_translation = html.unescape(translate_client.translate(text, target_language='en')['translatedText'])\n",
    "    print(f\"Translated to English:\\t{en_translation}\")\n",
    "    # Translate to the target language\n",
    "    rtt_result = html.unescape(translate_client.translate(en_translation, target_language=target_language)['translatedText'])\n",
    "    # print(f\"Translated to {target_language}:\\t{rtt_result}\")\n",
    "    return rtt_result\n",
    "\n",
    "# Initialize the translation client\n",
    "translate_client = translate.Client()\n",
    "\n",
    "# Quine sentences in different languages\n",
    "quine_sentences = {\n",
    "    'en': \"I am a quine so I say the following and then quote it: 'I am a quine so I say the following and then quote it:'.\",\n",
    "    'es': \"Soy un quine así que digo lo siguiente y luego lo cito: 'Soy un quine así que digo lo siguiente y luego lo cito:'.\",\n",
    "    'fr': \"Je suis un quine donc je dis ce qui suit et ensuite je le cite : 'Je suis un quine donc je dis ce qui suit et ensuite je le cite :'.\",\n",
    "    'de': \"Ich bin ein Quine, also sage ich Folgendes und zitiere es dann: 'Ich bin ein Quine, also sage ich Folgendes und zitiere es dann:'.\",\n",
    "    'it': \"Sono un quine quindi dico quanto segue e poi lo cito: 'Sono un quine quindi dico quanto segue e poi lo cito:'.\",\n",
    "    'pt': \"Sou um quine então eu digo o seguinte e depois o cito: 'Sou um quine então eu digo o seguinte e depois o cito:'.\",\n",
    "    'ru': \"Я квайн, поэтому говорю следующее, а затем цитирую это: 'Я квайн, поэтому говорю следующее, а затем цитирую это:'.\",\n",
    "    'ja': \"私はクワインなので、次のことを言ってそれを引用します: '私はクワインなので、次のことを言ってそれを引用します:'\",\n",
    "    'zh': \"我是一個奎因，所以我說以下內容然後引用它: '我是一個奎因，所以我說以下內容然後引用它:'\",\n",
    "    'ar': \"أنا كواين لذا أقول ما يلي ثم أقتبسه: 'أنا كواين لذا أقول ما يلي ثم أقتبسه:'\",\n",
    "    # 'hi': \"मैं एक क्वाइन हूँ इसलिए मैं निम्नलिखित कहता हूँ और फिर उसे उद्धृत करता हूँ: 'मैं एक क्वाइन हूँ इसलिए मैं निम्नलिखित कहता हूँ और फिर उसे उद्धृत करता हूँ:'\"\n",
    "    # Using this English: \"This sentence is a quine so it says the following and then quotes it: 'This sentence is a quine so it says the following and then quotes it.'\"\n",
    "    'hi': \"यह वाक्य एक क्वाइन है इसलिए यह निम्नलिखित कहता है और फिर उसे उद्धृत करता है: 'यह वाक्य एक क्वाइन है इसलिए यह निम्नलिखित कहता है और फिर उसे उद्धृत करता है'।\"\n",
    "}\n",
    "\n",
    "# Perform RTT for each language\n",
    "for lang_code, quine_sentence in quine_sentences.items():\n",
    "    rtt_result = round_trip_translation(quine_sentence, lang_code, translate_client)\n",
    "    print(f\"RTT Result for {lang_code}:\\t{rtt_result}\")\n",
    "    if quine_sentence == rtt_result:\n",
    "        print(\"Quine Success!\")\n",
    "    else:\n",
    "        print(\"Take two!\")\n",
    "        rtt2_result = round_trip_translation(rtt_result, lang_code, translate_client)\n",
    "        print(f\"RTT Result for {lang_code}:\\t{rtt2_result}\")\n",
    "        if rtt_result == rtt2_result:\n",
    "            print(\"Quine RTT Success!\")\n",
    "    print()\n"
   ]
  },
  {
   "cell_type": "code",
   "execution_count": null,
   "metadata": {},
   "outputs": [],
   "source": []
  }
 ],
 "metadata": {
  "kernelspec": {
   "display_name": ".venv",
   "language": "python",
   "name": "python3"
  },
  "language_info": {
   "codemirror_mode": {
    "name": "ipython",
    "version": 3
   },
   "file_extension": ".py",
   "mimetype": "text/x-python",
   "name": "python",
   "nbconvert_exporter": "python",
   "pygments_lexer": "ipython3",
   "version": "3.11.3"
  }
 },
 "nbformat": 4,
 "nbformat_minor": 2
}
